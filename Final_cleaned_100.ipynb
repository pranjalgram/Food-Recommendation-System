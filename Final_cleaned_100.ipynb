{
 "cells": [
  {
   "cell_type": "code",
   "execution_count": 30,
   "metadata": {},
   "outputs": [],
   "source": [
    "import os\n",
    "import numpy as np\n",
    "import pandas as pd"
   ]
  },
  {
   "cell_type": "code",
   "execution_count": 31,
   "metadata": {},
   "outputs": [],
   "source": [
    "dataset = pd.read_csv('food_dataset.csv')"
   ]
  },
  {
   "cell_type": "code",
   "execution_count": 32,
   "metadata": {},
   "outputs": [],
   "source": [
    "df = dataset.head(100)"
   ]
  },
  {
   "cell_type": "code",
   "execution_count": 33,
   "metadata": {},
   "outputs": [
    {
     "name": "stderr",
     "output_type": "stream",
     "text": [
      "C:\\Users\\Cheenu\\Anaconda3\\lib\\site-packages\\pandas\\core\\frame.py:3781: SettingWithCopyWarning: \n",
      "A value is trying to be set on a copy of a slice from a DataFrame\n",
      "\n",
      "See the caveats in the documentation: http://pandas.pydata.org/pandas-docs/stable/indexing.html#indexing-view-versus-copy\n",
      "  return super(DataFrame, self).rename(**kwargs)\n"
     ]
    }
   ],
   "source": [
    "df.rename(columns={\"Height(in cm)\": \"Height\", \"Weight(in Kg)\": \"Weight\"},inplace=True)\n",
    "df.rename(columns={\"Preferred Taste(Choose the highest priority)\":\"Taste\",\"Daily meal frequency : times a day\":\"total_meal\"},inplace=True)\n",
    "df.rename(columns={\"What do you prefer in breakfast? (Select only those items you like and don't select all)\":\"Breakfast\",\"What do you prefer in lunch? (Select only those items you like and don't select all)\":\"lunch\"},inplace=True)\n",
    "df.rename(columns={\"What do you prefer in snacks?(Select only those items you like and don't select all)\":\"snacks\",\"What do you prefer in dinner? (Select only those items you like and don't select all)\":\"dinner\"},inplace=True)\n",
    "df.rename(columns={\"What you prefer food consisting of?\":\"PCVF\",\"Which region of India you belong to?\":\"region\",\"North Indian Cuisines and Deserts(Tried ones)\":\"NI_cuisine\",\"South Indian Cuisines and Deserts(Tried ones)\":\"SI_cuisine\",\"West Indian Cuisines and Deserts(Tried ones)\":\"WI_cuisine\",\"North-East Indian Cuisines and Deserts(Tried ones)\":\"NEI_cuisine\"},inplace=True)\n",
    "df.rename(columns={\"Do you smoke?\":\"smoke\",\"Extent of intake of Alcohol/Beer\":\"Alcohol\",\"How is your daily activity level?\":\"exercise_type\",\"Exercise frequency : Times a week\":\"exercise_frequency\",\"Goal Weight(in Kg)\":\"Goal_weight\",\"Alergic to food?\":\"food_allergy\"},inplace=True)\n",
    "df.rename(columns={\"Extent of intake of Alcohol/Beer \":\"Alcohol\",\"How is your daily activity level?\":\"exercise_type\",\"Exercise frequency : Times a week\":\"exercise_frequency\",\"Goal Weight(in Kg)\":\"Goal_weight\",\"Algeric to food?\":\"food_allergy\"},inplace=True)\n",
    "df.rename(columns={\"Sides you prefer in lunch?\":\"lunch_addons\"},inplace=True)"
   ]
  },
  {
   "cell_type": "code",
   "execution_count": 34,
   "metadata": {},
   "outputs": [
    {
     "data": {
      "text/plain": [
       "array(['Timestamp', 'Username', 'Sex', 'Height', 'Weight', 'Taste',\n",
       "       'total_meal', 'Breakfast', 'lunch', 'lunch_addons', 'snacks',\n",
       "       'dinner', 'PCVF', 'region', 'NI_cuisine', 'SI_cuisine',\n",
       "       'WI_cuisine', 'NEI_cuisine', 'smoke', 'Alcohol', 'exercise_type',\n",
       "       'exercise_frequency', 'Goal_weight', 'food_allergy'], dtype=object)"
      ]
     },
     "execution_count": 34,
     "metadata": {},
     "output_type": "execute_result"
    }
   ],
   "source": [
    "df.columns.values"
   ]
  },
  {
   "cell_type": "code",
   "execution_count": 35,
   "metadata": {},
   "outputs": [
    {
     "name": "stderr",
     "output_type": "stream",
     "text": [
      "C:\\Users\\Cheenu\\Anaconda3\\lib\\site-packages\\ipykernel_launcher.py:1: SettingWithCopyWarning: \n",
      "A value is trying to be set on a copy of a slice from a DataFrame.\n",
      "Try using .loc[row_indexer,col_indexer] = value instead\n",
      "\n",
      "See the caveats in the documentation: http://pandas.pydata.org/pandas-docs/stable/indexing.html#indexing-view-versus-copy\n",
      "  \"\"\"Entry point for launching an IPython kernel.\n",
      "C:\\Users\\Cheenu\\Anaconda3\\lib\\site-packages\\ipykernel_launcher.py:2: SettingWithCopyWarning: \n",
      "A value is trying to be set on a copy of a slice from a DataFrame.\n",
      "Try using .loc[row_indexer,col_indexer] = value instead\n",
      "\n",
      "See the caveats in the documentation: http://pandas.pydata.org/pandas-docs/stable/indexing.html#indexing-view-versus-copy\n",
      "  \n",
      "C:\\Users\\Cheenu\\Anaconda3\\lib\\site-packages\\ipykernel_launcher.py:3: SettingWithCopyWarning: \n",
      "A value is trying to be set on a copy of a slice from a DataFrame.\n",
      "Try using .loc[row_indexer,col_indexer] = value instead\n",
      "\n",
      "See the caveats in the documentation: http://pandas.pydata.org/pandas-docs/stable/indexing.html#indexing-view-versus-copy\n",
      "  This is separate from the ipykernel package so we can avoid doing imports until\n"
     ]
    }
   ],
   "source": [
    "df['Height']=dataset['Height(in cm)'].head(100)\n",
    "df['Height']=df['Height'].astype(int)\n",
    "df['Height']=df['Height']/100\n",
    "def height_calculation():\n",
    "    count = 0\n",
    "    sum_h = 0\n",
    "    for h in df['Height']:\n",
    "        if h >= 1.21 and h <= 2.13:\n",
    "            count = count + 1\n",
    "            sum_h = sum_h + h\n",
    "    return count,sum_h"
   ]
  },
  {
   "cell_type": "code",
   "execution_count": 36,
   "metadata": {},
   "outputs": [],
   "source": [
    "count,sum_h=height_calculation()\n",
    "mean = round(sum_h/count,2)"
   ]
  },
  {
   "cell_type": "code",
   "execution_count": 37,
   "metadata": {},
   "outputs": [
    {
     "name": "stderr",
     "output_type": "stream",
     "text": [
      "C:\\Users\\Cheenu\\Anaconda3\\lib\\site-packages\\ipykernel_launcher.py:1: SettingWithCopyWarning: \n",
      "A value is trying to be set on a copy of a slice from a DataFrame.\n",
      "Try using .loc[row_indexer,col_indexer] = value instead\n",
      "\n",
      "See the caveats in the documentation: http://pandas.pydata.org/pandas-docs/stable/indexing.html#indexing-view-versus-copy\n",
      "  \"\"\"Entry point for launching an IPython kernel.\n"
     ]
    }
   ],
   "source": [
    "df['Height']=df['Height'].apply(lambda h: mean if h < 1.21 or h > 2.13 else h)"
   ]
  },
  {
   "cell_type": "code",
   "execution_count": 38,
   "metadata": {},
   "outputs": [
    {
     "name": "stderr",
     "output_type": "stream",
     "text": [
      "C:\\Users\\Cheenu\\Anaconda3\\lib\\site-packages\\ipykernel_launcher.py:1: SettingWithCopyWarning: \n",
      "A value is trying to be set on a copy of a slice from a DataFrame.\n",
      "Try using .loc[row_indexer,col_indexer] = value instead\n",
      "\n",
      "See the caveats in the documentation: http://pandas.pydata.org/pandas-docs/stable/indexing.html#indexing-view-versus-copy\n",
      "  \"\"\"Entry point for launching an IPython kernel.\n",
      "C:\\Users\\Cheenu\\Anaconda3\\lib\\site-packages\\ipykernel_launcher.py:2: SettingWithCopyWarning: \n",
      "A value is trying to be set on a copy of a slice from a DataFrame.\n",
      "Try using .loc[row_indexer,col_indexer] = value instead\n",
      "\n",
      "See the caveats in the documentation: http://pandas.pydata.org/pandas-docs/stable/indexing.html#indexing-view-versus-copy\n",
      "  \n"
     ]
    }
   ],
   "source": [
    "df['Weight'] = df['Weight'].apply(lambda w:65 if w =='65+' else w)\n",
    "df['Weight'] = df['Weight'].astype(int)\n",
    "\n",
    "def weight_calculation():\n",
    "    count = 0\n",
    "    sum_h = 0\n",
    "    for h in df['Weight']:\n",
    "        if h >= 38 and h <= 120:\n",
    "            count = count + 1\n",
    "            sum_h = sum_h + h\n",
    "    return count,sum_h      "
   ]
  },
  {
   "cell_type": "code",
   "execution_count": 39,
   "metadata": {},
   "outputs": [],
   "source": [
    "countw,sumw=weight_calculation()\n",
    "meanw=round(sumw/countw)"
   ]
  },
  {
   "cell_type": "code",
   "execution_count": 40,
   "metadata": {},
   "outputs": [
    {
     "name": "stderr",
     "output_type": "stream",
     "text": [
      "C:\\Users\\Cheenu\\Anaconda3\\lib\\site-packages\\ipykernel_launcher.py:1: SettingWithCopyWarning: \n",
      "A value is trying to be set on a copy of a slice from a DataFrame.\n",
      "Try using .loc[row_indexer,col_indexer] = value instead\n",
      "\n",
      "See the caveats in the documentation: http://pandas.pydata.org/pandas-docs/stable/indexing.html#indexing-view-versus-copy\n",
      "  \"\"\"Entry point for launching an IPython kernel.\n"
     ]
    }
   ],
   "source": [
    "df['Weight']=df['Weight'].apply(lambda w: meanw if w < 38 or w > 120 else w)"
   ]
  },
  {
   "cell_type": "code",
   "execution_count": 41,
   "metadata": {},
   "outputs": [
    {
     "name": "stderr",
     "output_type": "stream",
     "text": [
      "C:\\Users\\Cheenu\\Anaconda3\\lib\\site-packages\\ipykernel_launcher.py:1: SettingWithCopyWarning: \n",
      "A value is trying to be set on a copy of a slice from a DataFrame.\n",
      "Try using .loc[row_indexer,col_indexer] = value instead\n",
      "\n",
      "See the caveats in the documentation: http://pandas.pydata.org/pandas-docs/stable/indexing.html#indexing-view-versus-copy\n",
      "  \"\"\"Entry point for launching an IPython kernel.\n"
     ]
    }
   ],
   "source": [
    "df['bmi'] = df['Weight']/(pow(df['Height'],2))"
   ]
  },
  {
   "cell_type": "code",
   "execution_count": 42,
   "metadata": {},
   "outputs": [
    {
     "name": "stderr",
     "output_type": "stream",
     "text": [
      "C:\\Users\\Cheenu\\Anaconda3\\lib\\site-packages\\ipykernel_launcher.py:1: SettingWithCopyWarning: \n",
      "A value is trying to be set on a copy of a slice from a DataFrame.\n",
      "Try using .loc[row_indexer,col_indexer] = value instead\n",
      "\n",
      "See the caveats in the documentation: http://pandas.pydata.org/pandas-docs/stable/indexing.html#indexing-view-versus-copy\n",
      "  \"\"\"Entry point for launching an IPython kernel.\n"
     ]
    }
   ],
   "source": [
    "df['Goal_weight'] = df['Goal_weight'].apply(lambda gw : meanw if gw < 38 or gw > 120 else gw)"
   ]
  },
  {
   "cell_type": "code",
   "execution_count": 43,
   "metadata": {},
   "outputs": [
    {
     "name": "stderr",
     "output_type": "stream",
     "text": [
      "C:\\Users\\Cheenu\\Anaconda3\\lib\\site-packages\\ipykernel_launcher.py:21: SettingWithCopyWarning: \n",
      "A value is trying to be set on a copy of a slice from a DataFrame.\n",
      "Try using .loc[row_indexer,col_indexer] = value instead\n",
      "\n",
      "See the caveats in the documentation: http://pandas.pydata.org/pandas-docs/stable/indexing.html#indexing-view-versus-copy\n"
     ]
    }
   ],
   "source": [
    "def reduce_na(cal):\n",
    "    store = \"\"\n",
    "    save = cal.split(';')\n",
    "    for i in save:\n",
    "        if i=='Protein':\n",
    "            store=store+i+';'\n",
    "        if i=='Carbohydrates':\n",
    "            store=store+i+';'\n",
    "        if i=='Fats':\n",
    "            store=store+i+';'\n",
    "        if i=='Calcium':\n",
    "            store=store+i+';'\n",
    "        if i=='Vitamins':\n",
    "            store=store+i+';'     \n",
    "    if store!=\"\":\n",
    "        if store[-1]==';':\n",
    "            cal = store[:-1]\n",
    "    else:\n",
    "        cal = 'Protein'\n",
    "    return cal\n",
    "df['PCVF'] = df['PCVF'].apply(reduce_na)"
   ]
  },
  {
   "cell_type": "code",
   "execution_count": 44,
   "metadata": {},
   "outputs": [],
   "source": [
    "def ex_calculation():\n",
    "    count = 0\n",
    "    sum_h = 0\n",
    "    for h in df['exercise_frequency']:\n",
    "        if len(h)==1:\n",
    "            if h >='1' and h<='6':\n",
    "                count = count + 1\n",
    "                sum_h = sum_h + int(h)\n",
    "    return count,sum_h \n",
    "excount,exsum=ex_calculation()"
   ]
  },
  {
   "cell_type": "code",
   "execution_count": 45,
   "metadata": {},
   "outputs": [],
   "source": [
    "exmean = str(round(exsum/excount))"
   ]
  },
  {
   "cell_type": "code",
   "execution_count": 46,
   "metadata": {},
   "outputs": [
    {
     "name": "stderr",
     "output_type": "stream",
     "text": [
      "C:\\Users\\Cheenu\\Anaconda3\\lib\\site-packages\\ipykernel_launcher.py:1: SettingWithCopyWarning: \n",
      "A value is trying to be set on a copy of a slice from a DataFrame.\n",
      "Try using .loc[row_indexer,col_indexer] = value instead\n",
      "\n",
      "See the caveats in the documentation: http://pandas.pydata.org/pandas-docs/stable/indexing.html#indexing-view-versus-copy\n",
      "  \"\"\"Entry point for launching an IPython kernel.\n"
     ]
    }
   ],
   "source": [
    "df['exercise_frequency'] = df['exercise_frequency'].apply(lambda ex:exmean if ex !='1' and ex!='2' and ex!='3' and ex!='4' and ex!='5' and ex!='6' and ex!='NIL' else ex)"
   ]
  },
  {
   "cell_type": "code",
   "execution_count": 47,
   "metadata": {},
   "outputs": [
    {
     "name": "stderr",
     "output_type": "stream",
     "text": [
      "C:\\Users\\Cheenu\\Anaconda3\\lib\\site-packages\\ipykernel_launcher.py:7: SettingWithCopyWarning: \n",
      "A value is trying to be set on a copy of a slice from a DataFrame.\n",
      "Try using .loc[row_indexer,col_indexer] = value instead\n",
      "\n",
      "See the caveats in the documentation: http://pandas.pydata.org/pandas-docs/stable/indexing.html#indexing-view-versus-copy\n",
      "  import sys\n"
     ]
    }
   ],
   "source": [
    "def changer(ex):\n",
    "    if(ex == 'More than normal'):\n",
    "        ex = 'Normal(Work->Home->Recurse)'\n",
    "    elif(ex == 'Bhai uthna hi exercise h'):\n",
    "        ex = 'Normal(Work->Home->Recurse)'\n",
    "    return ex\n",
    "df['exercise_type']=   df['exercise_type'].apply(changer)"
   ]
  },
  {
   "cell_type": "code",
   "execution_count": 48,
   "metadata": {},
   "outputs": [
    {
     "name": "stderr",
     "output_type": "stream",
     "text": [
      "C:\\Users\\Cheenu\\Anaconda3\\lib\\site-packages\\ipykernel_launcher.py:9: SettingWithCopyWarning: \n",
      "A value is trying to be set on a copy of a slice from a DataFrame.\n",
      "Try using .loc[row_indexer,col_indexer] = value instead\n",
      "\n",
      "See the caveats in the documentation: http://pandas.pydata.org/pandas-docs/stable/indexing.html#indexing-view-versus-copy\n",
      "  if __name__ == '__main__':\n"
     ]
    }
   ],
   "source": [
    "def allergic(aa):\n",
    "    a=str(aa)\n",
    "    if a=='Veggies' or a=='Sweets' or a=='None' or a=='Fruit' or a=='Spicy Food':\n",
    "        return a\n",
    "    else:\n",
    "        a='None'\n",
    "   # print(a)    \n",
    "    return a \n",
    "df['food_allergy']=df['food_allergy'].apply(allergic)"
   ]
  },
  {
   "cell_type": "code",
   "execution_count": 49,
   "metadata": {},
   "outputs": [
    {
     "name": "stderr",
     "output_type": "stream",
     "text": [
      "C:\\Users\\Cheenu\\Anaconda3\\lib\\site-packages\\ipykernel_launcher.py:13: SettingWithCopyWarning: \n",
      "A value is trying to be set on a copy of a slice from a DataFrame.\n",
      "Try using .loc[row_indexer,col_indexer] = value instead\n",
      "\n",
      "See the caveats in the documentation: http://pandas.pydata.org/pandas-docs/stable/indexing.html#indexing-view-versus-copy\n",
      "  del sys.path[0]\n"
     ]
    }
   ],
   "source": [
    "breakfast_meal = ['Eggs','Coffee','Oatmeal','Green Tea','Chai','Protein Shake','Fruit','Milk','Aloo Paratha','Onion Paratha','Dahlia','Poori with Aloo Sabsi','Pav bhaji','Chole Bhathure']\n",
    "def break_meal(bm):\n",
    "    temp = bm.split(';')\n",
    "    result=''\n",
    "    for i in temp:\n",
    "        if i not in breakfast_meal:\n",
    "            result=result+''\n",
    "        else:\n",
    "            result=result+i+';'\n",
    "    if len(result) > 0:\n",
    "        return result[:-1]\n",
    "    return 'Protein Shake'            \n",
    "df['Breakfast'] = df['Breakfast'].apply(break_meal)"
   ]
  },
  {
   "cell_type": "code",
   "execution_count": 50,
   "metadata": {},
   "outputs": [
    {
     "name": "stderr",
     "output_type": "stream",
     "text": [
      "C:\\Users\\Cheenu\\Anaconda3\\lib\\site-packages\\ipykernel_launcher.py:13: SettingWithCopyWarning: \n",
      "A value is trying to be set on a copy of a slice from a DataFrame.\n",
      "Try using .loc[row_indexer,col_indexer] = value instead\n",
      "\n",
      "See the caveats in the documentation: http://pandas.pydata.org/pandas-docs/stable/indexing.html#indexing-view-versus-copy\n",
      "  del sys.path[0]\n"
     ]
    }
   ],
   "source": [
    "lnch = ['kala Channa(chickpeas)','Seasonal Vegetable','Rajma(Kidney Beans)','Masoor Dal(Orange Lentils)','Mung Dal(Petite Yellow Lentils)','Urad Dal(Black Gram lentils)','Safed Channa(Garbanzo Beans)','Raungi / Lobhia (Black Eyed Peas)','Hara channa (Green Chickpeas)','Channa Dal (Split Chickpeas)','Chawal(Rice)','Mix Dal','Tawa roti','Tawa Naan','Aloo Gobi','Chicken','Pulao','Paneer Sabzi']\n",
    "def lunch_meal(bm):\n",
    "    temp = bm.split(';')\n",
    "    result=''\n",
    "    for i in temp:\n",
    "        if i not in lnch:\n",
    "            result=result+''\n",
    "        else:\n",
    "            result=result+i+';'\n",
    "    if len(result) > 0:\n",
    "        return result[:-1]\n",
    "    return 'kala Channa(chickpeas);Seasonal Vegetable;Chawal(Rice)'\n",
    "df['lunch'] = df['lunch'].apply(lunch_meal)"
   ]
  },
  {
   "cell_type": "code",
   "execution_count": 51,
   "metadata": {},
   "outputs": [
    {
     "name": "stderr",
     "output_type": "stream",
     "text": [
      "C:\\Users\\Cheenu\\Anaconda3\\lib\\site-packages\\ipykernel_launcher.py:14: SettingWithCopyWarning: \n",
      "A value is trying to be set on a copy of a slice from a DataFrame.\n",
      "Try using .loc[row_indexer,col_indexer] = value instead\n",
      "\n",
      "See the caveats in the documentation: http://pandas.pydata.org/pandas-docs/stable/indexing.html#indexing-view-versus-copy\n",
      "  \n"
     ]
    }
   ],
   "source": [
    "lnch_add=['Pickle','Chutney','Ras Malai','Raita','Gajar Halwa','Gulab Jamun','Kheer','Jalebi','Ladoo','Fruit Juice','Salad']\n",
    "def lnch_addons(bm):\n",
    "    temp = bm.split(';')\n",
    "    result=''\n",
    "    for i in temp:\n",
    "        if i not in lnch_add:\n",
    "            result=result+''\n",
    "        else:\n",
    "            result=result+i+';'\n",
    "    if len(result) > 0:\n",
    "        return result[:-1]\n",
    "    return 'Kheer;Fruit Juice'\n",
    "\n",
    "df['lunch_addons'] = df['lunch_addons'].apply(lnch_addons)"
   ]
  },
  {
   "cell_type": "code",
   "execution_count": 52,
   "metadata": {
    "scrolled": true
   },
   "outputs": [
    {
     "name": "stderr",
     "output_type": "stream",
     "text": [
      "C:\\Users\\Cheenu\\Anaconda3\\lib\\site-packages\\ipykernel_launcher.py:14: SettingWithCopyWarning: \n",
      "A value is trying to be set on a copy of a slice from a DataFrame.\n",
      "Try using .loc[row_indexer,col_indexer] = value instead\n",
      "\n",
      "See the caveats in the documentation: http://pandas.pydata.org/pandas-docs/stable/indexing.html#indexing-view-versus-copy\n",
      "  \n"
     ]
    }
   ],
   "source": [
    "snk = ['Pastry','Tea','Samosa','Namkeen Bhujia','Fruit Buns','Muffins','Bread Pakora','Biscuits']\n",
    "def snacks_meal(bmm):\n",
    "    bm=str(bmm)\n",
    "    temp = bm.split(';')\n",
    "    result=''\n",
    "    for i in temp:\n",
    "        if i not in snk:\n",
    "            result=result+''\n",
    "        else:\n",
    "            result=result+i+';'\n",
    "    if len(result) > 0:\n",
    "        return result[:-1]\n",
    "    return 'Fruit Buns;Biscuits'\n",
    "df['snacks']=df['snacks'].apply(snacks_meal)"
   ]
  },
  {
   "cell_type": "code",
   "execution_count": 53,
   "metadata": {},
   "outputs": [
    {
     "name": "stderr",
     "output_type": "stream",
     "text": [
      "C:\\Users\\Cheenu\\Anaconda3\\lib\\site-packages\\ipykernel_launcher.py:13: SettingWithCopyWarning: \n",
      "A value is trying to be set on a copy of a slice from a DataFrame.\n",
      "Try using .loc[row_indexer,col_indexer] = value instead\n",
      "\n",
      "See the caveats in the documentation: http://pandas.pydata.org/pandas-docs/stable/indexing.html#indexing-view-versus-copy\n",
      "  del sys.path[0]\n"
     ]
    }
   ],
   "source": [
    "dinr = ['kala Channa(chickpeas)','Seasonal Vegetable','Rajma(Kidney Beans)','Masoor Dal(Orange Lentils)','Mung Dal(Petite Yellow Lentils)','Urad Dal(Black Gram lentils)','Safed Channa(Garbanzo Beans)','Raungi / Lobhia (Black Eyed Peas)','Hara channa (Green Chickpeas)','Channa Dal (Split Chickpeas)','Chawal(Rice)','Mix Dal','Tawa roti','Tawa Naan','Aloo Gobi','Chicken','Pulao','Paneer Sabsi']\n",
    "def dinner_meal(bm):\n",
    "    temp = bm.split(';')\n",
    "    result=''\n",
    "    for i in temp:\n",
    "        if i not in dinr:\n",
    "            result=result+''\n",
    "        else:\n",
    "            result=result+i+';'\n",
    "    if len(result) > 0:\n",
    "        return result[:-1]\n",
    "    return 'kala Channa(chickpeas);Seasonal Vegetable;Chawal(Rice)'\n",
    "df['dinner'] = df['dinner'].apply(dinner_meal)"
   ]
  },
  {
   "cell_type": "code",
   "execution_count": 54,
   "metadata": {},
   "outputs": [
    {
     "name": "stderr",
     "output_type": "stream",
     "text": [
      "C:\\Users\\Cheenu\\Anaconda3\\lib\\site-packages\\ipykernel_launcher.py:14: SettingWithCopyWarning: \n",
      "A value is trying to be set on a copy of a slice from a DataFrame.\n",
      "Try using .loc[row_indexer,col_indexer] = value instead\n",
      "\n",
      "See the caveats in the documentation: http://pandas.pydata.org/pandas-docs/stable/indexing.html#indexing-view-versus-copy\n",
      "  \n"
     ]
    }
   ],
   "source": [
    "cuisine_ni = ['Fruit Chaat','Kachori','Pani Poori','Chenna','Petha','Mutton Biryani','Tehri','Motichoor Ladoo','childa','Balushahi']\n",
    "def cuisine_n(bmm):\n",
    "    bm = str(bmm)\n",
    "    temp = bm.split(';')\n",
    "    result=''\n",
    "    for i in temp:\n",
    "        if i not in cuisine_ni:\n",
    "            result=result+''\n",
    "        else:\n",
    "            result=result+i+';'\n",
    "    if len(result) > 0:\n",
    "        return result[:-1]\n",
    "    return 'Fruit Chaat;Kachori'\n",
    "df['NI_cuisine'] = df['NI_cuisine'].apply(cuisine_n)"
   ]
  },
  {
   "cell_type": "code",
   "execution_count": 55,
   "metadata": {},
   "outputs": [
    {
     "name": "stderr",
     "output_type": "stream",
     "text": [
      "C:\\Users\\Cheenu\\Anaconda3\\lib\\site-packages\\ipykernel_launcher.py:14: SettingWithCopyWarning: \n",
      "A value is trying to be set on a copy of a slice from a DataFrame.\n",
      "Try using .loc[row_indexer,col_indexer] = value instead\n",
      "\n",
      "See the caveats in the documentation: http://pandas.pydata.org/pandas-docs/stable/indexing.html#indexing-view-versus-copy\n",
      "  \n"
     ]
    }
   ],
   "source": [
    "cuisine_si=['Idli Dosa','Passham','Saambhar','Antuvuls','Sadhulu','Kallegura','Kalla Kura','Punukulu','Atukula Upma','Vepudu','Podi','Pulusu']\n",
    "def cuisine_s(bmm):\n",
    "    bm = str(bmm)\n",
    "    temp = bm.split(';')\n",
    "    result=''\n",
    "    for i in temp:\n",
    "        if i not in cuisine_si:\n",
    "            result=result+''\n",
    "        else:\n",
    "            result=result+i+';'\n",
    "    if len(result) > 0:\n",
    "        return result[:-1]\n",
    "    return 'Idli Dosa;Saambhar'\n",
    "df['SI_cuisine'] = df['SI_cuisine'].apply(cuisine_s)"
   ]
  },
  {
   "cell_type": "code",
   "execution_count": 56,
   "metadata": {},
   "outputs": [
    {
     "name": "stderr",
     "output_type": "stream",
     "text": [
      "C:\\Users\\Cheenu\\Anaconda3\\lib\\site-packages\\ipykernel_launcher.py:14: SettingWithCopyWarning: \n",
      "A value is trying to be set on a copy of a slice from a DataFrame.\n",
      "Try using .loc[row_indexer,col_indexer] = value instead\n",
      "\n",
      "See the caveats in the documentation: http://pandas.pydata.org/pandas-docs/stable/indexing.html#indexing-view-versus-copy\n",
      "  \n"
     ]
    }
   ],
   "source": [
    "cuisine_wi=['Dabeli','Dal Vada','Dhokla','Biranj','Doodhpak','Khichu','Bhakri','Puran poli','Poodla','Bajri no rotla','Kansar','Ghari','Son papdi','Kaju Katri']\n",
    "def cuisine_w(bmm):\n",
    "    bm = str(bmm)\n",
    "    temp = bm.split(';')\n",
    "    result=''\n",
    "    for i in temp:\n",
    "        if i not in cuisine_wi:\n",
    "            result=result+''\n",
    "        else:\n",
    "            result=result+i+';'\n",
    "    if len(result) > 0:\n",
    "        return result[:-1]\n",
    "    return 'Dal Vada;Dhokla;Son papdi;Kaju Katri'\n",
    "df['WI_cuisine'] = df['WI_cuisine'].apply(cuisine_w)"
   ]
  },
  {
   "cell_type": "code",
   "execution_count": 57,
   "metadata": {},
   "outputs": [
    {
     "name": "stderr",
     "output_type": "stream",
     "text": [
      "C:\\Users\\Cheenu\\Anaconda3\\lib\\site-packages\\ipykernel_launcher.py:14: SettingWithCopyWarning: \n",
      "A value is trying to be set on a copy of a slice from a DataFrame.\n",
      "Try using .loc[row_indexer,col_indexer] = value instead\n",
      "\n",
      "See the caveats in the documentation: http://pandas.pydata.org/pandas-docs/stable/indexing.html#indexing-view-versus-copy\n",
      "  \n"
     ]
    }
   ],
   "source": [
    "cuisine_ne=['Lettuce','Apong','Khar','Masor Tenga','Pura','Poitabhat','Pitika','Laru','Poodla','Cutlet','Falooda','Momos','Smashed Unripe Banana','Shukto']\n",
    "def cuisine_nie(bmm):\n",
    "    bm = str(bmm)\n",
    "    temp = bm.split(';')\n",
    "    result=''\n",
    "    for i in temp:\n",
    "        if i not in cuisine_ne:\n",
    "            result=result+''\n",
    "        else:\n",
    "            result=result+i+';'\n",
    "    if len(result) > 0:\n",
    "        return result[:-1]\n",
    "    return 'Cutlet;Falooda;Momos'\n",
    "df['NEI_cuisine'] = df['NEI_cuisine'].apply(cuisine_nie)"
   ]
  },
  {
   "cell_type": "code",
   "execution_count": 58,
   "metadata": {},
   "outputs": [],
   "source": [
    "df.to_csv('test_100.csv')"
   ]
  },
  {
   "cell_type": "code",
   "execution_count": null,
   "metadata": {},
   "outputs": [],
   "source": []
  }
 ],
 "metadata": {
  "kernelspec": {
   "display_name": "Python 3",
   "language": "python",
   "name": "python3"
  },
  "language_info": {
   "codemirror_mode": {
    "name": "ipython",
    "version": 3
   },
   "file_extension": ".py",
   "mimetype": "text/x-python",
   "name": "python",
   "nbconvert_exporter": "python",
   "pygments_lexer": "ipython3",
   "version": "3.5.5"
  },
  "widgets": {
   "state": {},
   "version": "1.1.2"
  }
 },
 "nbformat": 4,
 "nbformat_minor": 2
}
